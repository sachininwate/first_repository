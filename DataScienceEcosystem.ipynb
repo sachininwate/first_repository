{
 "cells": [
  {
   "cell_type": "markdown",
   "id": "6f0ca193-cd6d-4aa8-92a5-7cac2ac3afdd",
   "metadata": {},
   "source": [
    "# Data Science Tools and Ecosystem"
   ]
  },
  {
   "cell_type": "markdown",
   "id": "5eb4ae55-c311-4d30-9bdf-9efa8a77a4d7",
   "metadata": {},
   "source": [
    "In this notebook, Data Science Tools and Ecosystem are summarized."
   ]
  },
  {
   "cell_type": "markdown",
   "id": "547b7879-eb97-4d7e-935d-e568c7cd8feb",
   "metadata": {},
   "source": [
    "**Objectives:**\n",
    "* List popular languages for Data Science\n",
    "* List commonly used libraries used by Data Scientists\n",
    "* List Data Science Tools\n",
    "* Few examples of evaluating arithmetic expressions in Python "
   ]
  },
  {
   "cell_type": "markdown",
   "id": "514933b9-270f-4983-a3b6-48672b1058a4",
   "metadata": {},
   "source": [
    "Some of the popular languages that Data Scientists use are:\n",
    "1. Python\n",
    "2. R\n",
    "3. Scala\n",
    "4. Ruby"
   ]
  },
  {
   "cell_type": "markdown",
   "id": "28b38e7c-7c65-47f2-a3eb-081b0faf03f6",
   "metadata": {},
   "source": [
    "Some of the commonly used libraries used by Data Scientists include:\n",
    "1. NymPy\n",
    "2. Pandas\n",
    "3. MatPlotLib\n",
    "4. Sci-kit Learn"
   ]
  },
  {
   "cell_type": "markdown",
   "id": "acb190a8-923b-44b2-bd34-49469a158781",
   "metadata": {},
   "source": [
    "|Data Science Tools|\n",
    "--------------------\n",
    "|Jupytor Lab|\n",
    "|Jupytor Notebook|\n",
    "|Google Colab|\n",
    "|IBM Informatica|"
   ]
  },
  {
   "cell_type": "markdown",
   "id": "ed5735cb-5b81-4e78-8c3f-0545589379a6",
   "metadata": {},
   "source": [
    "### Below are a few examples of evaluating arithmetic expressions in Python"
   ]
  },
  {
   "cell_type": "code",
   "execution_count": 13,
   "id": "2396511b-b9a1-4253-8622-b491542e8a78",
   "metadata": {},
   "outputs": [
    {
     "data": {
      "text/plain": [
       "17"
      ]
     },
     "execution_count": 13,
     "metadata": {},
     "output_type": "execute_result"
    }
   ],
   "source": [
    "# This a simple arithmetic expression to mutiply then add integers\n",
    "(3*4)+5"
   ]
  },
  {
   "cell_type": "code",
   "execution_count": 15,
   "id": "690fcfab-a64f-4c3c-8d14-ca173052b85c",
   "metadata": {},
   "outputs": [
    {
     "name": "stdout",
     "output_type": "stream",
     "text": [
      "3.3333333333333335  Hours\n"
     ]
    }
   ],
   "source": [
    "# This will convert 200 minutes to hours by diving by 60\n",
    "print(200 / 60, \" Hours\")"
   ]
  },
  {
   "cell_type": "markdown",
   "id": "9342dfa0-4081-4d04-bb95-b9f98b8a2b94",
   "metadata": {},
   "source": [
    "## Author"
   ]
  },
  {
   "cell_type": "markdown",
   "id": "70962a33-6974-44e2-934d-7bc173adc5ae",
   "metadata": {},
   "source": [
    "Sachin Manohar Inwate"
   ]
  }
 ],
 "metadata": {
  "kernelspec": {
   "display_name": "Python [conda env:anaconda3]",
   "language": "python",
   "name": "conda-env-anaconda3-py"
  },
  "language_info": {
   "codemirror_mode": {
    "name": "ipython",
    "version": 3
   },
   "file_extension": ".py",
   "mimetype": "text/x-python",
   "name": "python",
   "nbconvert_exporter": "python",
   "pygments_lexer": "ipython3",
   "version": "3.12.4"
  }
 },
 "nbformat": 4,
 "nbformat_minor": 5
}
